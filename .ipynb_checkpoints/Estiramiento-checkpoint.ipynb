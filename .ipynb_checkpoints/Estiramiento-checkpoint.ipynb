{
 "cells": [
  {
   "cell_type": "code",
   "execution_count": 19,
   "id": "69c6a700-facd-4c0c-9395-44fa253ea06a",
   "metadata": {},
   "outputs": [
    {
     "name": "stdout",
     "output_type": "stream",
     "text": [
      "Minimum Pixel Intensity: 0\n",
      "Maximum Pixel Intensity: 200\n"
     ]
    }
   ],
   "source": [
    "import cv2\n",
    "import numpy as np\n",
    "from PIL import Image\n",
    "\n",
    "# Carga la imagen\n",
    "imagen = cv2.imread('avengers.png', 0)  # Lee la imagen en escala de grises\n",
    "\n",
    "# Calcula el histograma\n",
    "histograma = cv2.calcHist([imagen], [0], None, [255], [0, 255])\n",
    "\n",
    "# Calcula los valores mínimo y máximo del histograma\n",
    "min_val, max_val, min_loc, max_loc = cv2.minMaxLoc(histograma)\n",
    "\n",
    "# Realiza el estiramiento del histograma\n",
    "imagen_estirada = cv2.convertScaleAbs(imagen, alpha=255.0 / (max_val - min_val), beta=-min_val * 255.0 / (max_val - min_val))\n",
    "\n",
    "# Muestra la imagen original y la imagen estirada\n",
    "cv2.imshow('Imagen Original', imagen)\n",
    "cv2.imshow('Imagen Estirada', imagen_estirada)\n",
    "\n",
    "# Converts image to grayscale\n",
    "inputImage = Image.open(\"avengers.png\").convert('L')   \n",
    "outputImage = Image.new('L', inputImage.size)\n",
    "\n",
    "width, height = inputImage.size\n",
    "\n",
    "# We first need to find the minimum and maximum pixel intensities\n",
    "minIntensity = 0\n",
    "maxInsenity = 200\n",
    "\n",
    "for x in range(width):\n",
    "    for y in range(height):\n",
    "        intensity = inputImage.getpixel((x,y))\n",
    "\n",
    "        minIntensity = min(minIntensity, intensity)\n",
    "        maxInsenity = max(maxInsenity, intensity)\n",
    "\n",
    "print(\"Minimum Pixel Intensity: \" + str(minIntensity))\n",
    "print(\"Maximum Pixel Intensity: \" + str(maxInsenity))\n",
    "\n",
    "# Now, we'll go through the image again and update all of the pixel values to their new\n",
    "# position on the scaled histogram\n",
    "for x in range(width):\n",
    "    for y in range(height):\n",
    "        intensity = inputImage.getpixel((x,y))\n",
    "        \n",
    "        # This normalization process returns an intensity from 0 - 1 so we need to multiply by 200\n",
    "        newIntensity = 200 * ((intensity - minIntensity) / (maxInsenity - minIntensity))\n",
    "        outputImage.putpixel((x,y), int(newIntensity))\n",
    "\n",
    "outputImage.save('avengers.png')\n",
    "\n",
    "# Espera a que se presione una tecla y luego cierra las ventanas\n",
    "cv2.waitKey(0)\n",
    "cv2.destroyAllWindows()"
   ]
  }
 ],
 "metadata": {
  "kernelspec": {
   "display_name": "Python 3 (ipykernel)",
   "language": "python",
   "name": "python3"
  },
  "language_info": {
   "codemirror_mode": {
    "name": "ipython",
    "version": 3
   },
   "file_extension": ".py",
   "mimetype": "text/x-python",
   "name": "python",
   "nbconvert_exporter": "python",
   "pygments_lexer": "ipython3",
   "version": "3.11.4"
  }
 },
 "nbformat": 4,
 "nbformat_minor": 5
}
